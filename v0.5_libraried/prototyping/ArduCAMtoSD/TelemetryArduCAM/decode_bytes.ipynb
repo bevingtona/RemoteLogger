{
 "cells": [
  {
   "cell_type": "markdown",
   "id": "7b04ae75",
   "metadata": {},
   "source": [
    "### Decode bytes (each containing two numbers) to integer array\n",
    "Author: Rachel Pagdin<br>\n",
    "June 26, 2024"
   ]
  },
  {
   "cell_type": "markdown",
   "id": "091b0eab",
   "metadata": {},
   "source": [
    "**Goal:**<br>\n",
    "Go from bytes in hex to equivalent integers in bytes<br>\n",
    "E.g. \\x0f1ab57c --> 0, 15, 1, 10, 11, 5, 7, 12"
   ]
  },
  {
   "cell_type": "code",
   "execution_count": 86,
   "id": "d67563cc",
   "metadata": {
    "scrolled": true
   },
   "outputs": [],
   "source": [
    "input_bytes = {b'\\x0f', b'\\x1a', b'\\xb5', b'\\x7c'}\n",
    "input_bytes = b'\\x0f\\x1a\\xb5\\x7c'"
   ]
  },
  {
   "cell_type": "code",
   "execution_count": 2,
   "id": "bec4c9a8",
   "metadata": {
    "scrolled": true
   },
   "outputs": [
    {
     "name": "stdout",
     "output_type": "stream",
     "text": [
      "b'\\x02x\\x00\\x00\\x1e\\x02\\x80\\x18\\x07\\x02\\x11\\x01\\x00\\x00DDDDDDTUUUUUUUUVVfVffgfffeUUVffffffgwgwww\\x88\\x88\\x88\\x88\\x88\\x88w\\x88\\x88\\x88\\x88\\x88\\x88\\x88\\x88\\x88\\x88\\x88\\x88\\x88\\x88\\x88\\x88\\x88\\x88\\x88\\x88x\\x89\\x98\\x88\\x88\\x88\\x88wwfeeUVfUUeUffffgw\\x88\\x88\\x88\\x88\\x88\\x88\\x88\\x88\\x88\\x88\\x88\\x88\\x88\\x99\\x88\\x88\\x89\\x88\\x89\\x99\\x99\\x99\\x99\\x89\\x99\\x9a\\x99\\x99\\xa9\\x99\\x99\\x99\\x99\\x99\\x99\\x99\\x99\\x99\\x9a\\xaa\\x99\\x99\\x99\\x99\\x99\\x99\\x99\\x89\\x89\\x99\\x99\\x99\\x88\\x89\\x98\\x99\\x99\\x99\\x99\\x9a\\x9a\\x99\\x99\\x99\\x98\\x98\\x98D4DDDDEUUUUUUUUUfefeUUUUUUUUUUUUUffffgwwww\\x87\\x88\\x88\\x88\\x88x\\x88\\x88\\x88\\x88\\x88\\x88\\x88\\x88\\x89\\x88\\x88\\x88\\x88\\x88\\x88\\x88\\x87\\x88\\x88\\x88\\x88\\x88\\x88\\x88wwwwvffUeUUUVUVeUffgww\\x88\\x88\\x88\\x88x\\x88\\x88\\x87\\x88\\x88\\x89\\x89\\x99\\x88\\x88\\x99\\x88\\x89\\x89\\x99\\x98\\x99\\x99\\x99\\x9a\\x99\\x99\\x99\\x99\\x99\\x89\\x99\\x99\\x99\\x98\\x99\\x99\\xaa\\x99\\x99\\x99\\x99\\x99\\x99\\x89\\x99\\x99\\x99\\x9a\\x99\\x98\\x88\\x99\\x89\\x98\\x99\\x89\\x89\\x9a\\x9a\\xa9\\x99\\x99\\x99\\x99\\x99'\n"
     ]
    }
   ],
   "source": [
    "infile = open(\"300434068547220-3.bin\", 'rb')\n",
    "contents = infile.read()\n",
    "print(contents)\n",
    "infile.close()"
   ]
  },
  {
   "cell_type": "code",
   "execution_count": 3,
   "id": "083e944e",
   "metadata": {},
   "outputs": [
    {
     "data": {
      "text/plain": [
       "bytes"
      ]
     },
     "execution_count": 3,
     "metadata": {},
     "output_type": "execute_result"
    }
   ],
   "source": [
    "type(contents)"
   ]
  },
  {
   "cell_type": "code",
   "execution_count": 4,
   "id": "b3034d7d",
   "metadata": {},
   "outputs": [
    {
     "name": "stdout",
     "output_type": "stream",
     "text": [
      "027800001e028018070211010000444444444444545555555555555555565666566666676666666555555666666666666667776777777788888888888877888888888888888888888888888888888888888878899888888888777766656555566655556555666666666777888888888888888888888888889988888988899999999989999a9999a99999999999999999999aaa999999999999998989999999888998999999999a9a999999989898443444444444455555555555555555556665666555555555555555555555555555666666666777777777878888888878888888888888888889888888888888888788888888888888777777777666665565555555565556655566666777778888888878888887888889899988889988898999989999999a999999999989999999989999aa999999999999899999999a9998889989989989899a9aa99999999999\n"
     ]
    }
   ],
   "source": [
    "contents_as_bytes = [b for b in contents]\n",
    "contents_list = contents.hex()\n",
    "print(contents_list)"
   ]
  },
  {
   "cell_type": "code",
   "execution_count": 102,
   "id": "7d56c7d9",
   "metadata": {},
   "outputs": [],
   "source": [
    "def bytes_to_nibbles(contents):\n",
    "    nibbles = []\n",
    "    for b in contents:    #iterate through the bytes\n",
    "        first = b >> 4     #shift to extract first half\n",
    "        second = b & 15    #mask to extract second half\n",
    "    \n",
    "        nibbles.append(first)\n",
    "        nibbles.append(second)\n",
    "        \n",
    "    return nibbles"
   ]
  },
  {
   "cell_type": "code",
   "execution_count": 6,
   "id": "d42abab2",
   "metadata": {},
   "outputs": [],
   "source": [
    "# scale from 0-15 to 0-255 for image creation (8-bit grayscale even though only 4-bit supported in transmission)\n",
    "def bytes_to_nibbles_scale_to_255(contents):\n",
    "    nibbles = []\n",
    "    for b in contents:    #iterate through the bytes\n",
    "        first = b >> 4     #shift to extract first half\n",
    "        second = b & 15    #mask to extract second half\n",
    "    \n",
    "        nibbles.append(first*16)\n",
    "        nibbles.append(second*16)\n",
    "        \n",
    "    return nibbles"
   ]
  },
  {
   "cell_type": "code",
   "execution_count": 10,
   "id": "04d9ba64",
   "metadata": {},
   "outputs": [],
   "source": [
    "temp = contents[14::]"
   ]
  },
  {
   "cell_type": "code",
   "execution_count": 11,
   "id": "c5bb82ce",
   "metadata": {
    "scrolled": true
   },
   "outputs": [
    {
     "name": "stdout",
     "output_type": "stream",
     "text": [
      "[64, 64, 64, 64, 64, 64, 64, 64, 64, 64, 64, 64, 80, 64, 80, 80, 80, 80, 80, 80, 80, 80, 80, 80, 80, 80, 80, 80, 80, 80, 80, 96, 80, 96, 96, 96, 80, 96, 96, 96, 96, 96, 96, 112, 96, 96, 96, 96, 96, 96, 96, 80, 80, 80, 80, 80, 80, 96, 96, 96, 96, 96, 96, 96, 96, 96, 96, 96, 96, 96, 96, 112, 112, 112, 96, 112, 112, 112, 112, 112, 112, 112, 128, 128, 128, 128, 128, 128, 128, 128, 128, 128, 128, 128, 112, 112, 128, 128, 128, 128, 128, 128, 128, 128, 128, 128, 128, 128, 128, 128, 128, 128, 128, 128, 128, 128, 128, 128, 128, 128, 128, 128, 128, 128, 128, 128, 128, 128, 128, 128, 128, 128, 128, 128, 128, 128, 112, 128, 128, 144, 144, 128, 128, 128, 128, 128, 128, 128, 128, 128, 112, 112, 112, 112, 96, 96, 96, 80, 96, 80, 80, 80, 80, 96, 96, 96, 80, 80, 80, 80, 96, 80, 80, 80, 96, 96, 96, 96, 96, 96, 96, 96, 96, 112, 112, 112, 128, 128, 128, 128, 128, 128, 128, 128, 128, 128, 128, 128, 128, 128, 128, 128, 128, 128, 128, 128, 128, 128, 128, 128, 128, 128, 144, 144, 128, 128, 128, 128, 128, 144, 128, 128, 128, 144, 144, 144, 144, 144, 144, 144, 144, 144, 128, 144, 144, 144, 144, 160, 144, 144, 144, 144, 160, 144, 144, 144, 144, 144, 144, 144, 144, 144, 144, 144, 144, 144, 144, 144, 144, 144, 144, 144, 144, 160, 160, 160, 144, 144, 144, 144, 144, 144, 144, 144, 144, 144, 144, 144, 144, 144, 128, 144, 128, 144, 144, 144, 144, 144, 144, 144, 128, 128, 128, 144, 144, 128, 144, 144, 144, 144, 144, 144, 144, 144, 144, 160, 144, 160, 144, 144, 144, 144, 144, 144, 144, 128, 144, 128, 144, 128, 64, 64, 48, 64, 64, 64, 64, 64, 64, 64, 64, 64, 64, 80, 80, 80, 80, 80, 80, 80, 80, 80, 80, 80, 80, 80, 80, 80, 80, 80, 80, 80, 96, 96, 96, 80, 96, 96, 96, 80, 80, 80, 80, 80, 80, 80, 80, 80, 80, 80, 80, 80, 80, 80, 80, 80, 80, 80, 80, 80, 80, 80, 80, 80, 80, 80, 96, 96, 96, 96, 96, 96, 96, 96, 96, 112, 112, 112, 112, 112, 112, 112, 112, 112, 128, 112, 128, 128, 128, 128, 128, 128, 128, 128, 112, 128, 128, 128, 128, 128, 128, 128, 128, 128, 128, 128, 128, 128, 128, 128, 128, 128, 128, 144, 128, 128, 128, 128, 128, 128, 128, 128, 128, 128, 128, 128, 128, 128, 128, 112, 128, 128, 128, 128, 128, 128, 128, 128, 128, 128, 128, 128, 128, 128, 112, 112, 112, 112, 112, 112, 112, 112, 112, 96, 96, 96, 96, 96, 80, 80, 96, 80, 80, 80, 80, 80, 80, 80, 80, 96, 80, 80, 80, 96, 96, 80, 80, 80, 96, 96, 96, 96, 96, 112, 112, 112, 112, 112, 128, 128, 128, 128, 128, 128, 128, 128, 112, 128, 128, 128, 128, 128, 128, 112, 128, 128, 128, 128, 128, 144, 128, 144, 144, 144, 128, 128, 128, 128, 144, 144, 128, 128, 128, 144, 128, 144, 144, 144, 144, 128, 144, 144, 144, 144, 144, 144, 144, 160, 144, 144, 144, 144, 144, 144, 144, 144, 144, 144, 128, 144, 144, 144, 144, 144, 144, 144, 144, 128, 144, 144, 144, 144, 160, 160, 144, 144, 144, 144, 144, 144, 144, 144, 144, 144, 144, 144, 128, 144, 144, 144, 144, 144, 144, 144, 144, 160, 144, 144, 144, 128, 128, 128, 144, 144, 128, 144, 144, 128, 144, 144, 128, 144, 128, 144, 144, 160, 144, 160, 160, 144, 144, 144, 144, 144, 144, 144, 144, 144, 144, 144]\n"
     ]
    }
   ],
   "source": [
    "nibbles = bytes_to_nibbles_scale_to_255(temp)\n",
    "print(nibbles)"
   ]
  },
  {
   "cell_type": "code",
   "execution_count": 12,
   "id": "013b815a",
   "metadata": {},
   "outputs": [
    {
     "data": {
      "text/plain": [
       "640"
      ]
     },
     "execution_count": 12,
     "metadata": {},
     "output_type": "execute_result"
    }
   ],
   "source": [
    "len(nibbles)"
   ]
  },
  {
   "cell_type": "code",
   "execution_count": 14,
   "id": "afda6af6",
   "metadata": {},
   "outputs": [],
   "source": [
    "#display the array as a picture in grayscale\n",
    "import numpy as np\n",
    "from PIL import Image\n",
    "\n",
    "h,w = 2,320\n",
    "data = np.array(nibbles)\n",
    "\n",
    "matrix = data.reshape(h,w)\n",
    "\n",
    "img = Image.fromarray(np.uint8(matrix), 'L')     #mode for 8-bit grayscale\n",
    "img.show()      # this makes an image but the edges of the pixels are blurred"
   ]
  },
  {
   "cell_type": "code",
   "execution_count": 104,
   "id": "728ab742",
   "metadata": {},
   "outputs": [
    {
     "name": "stdout",
     "output_type": "stream",
     "text": [
      "[0, 15, 1, 10, 11, 5, 7, 12]\n"
     ]
    }
   ],
   "source": [
    "print(bytes_to_nibbles(input_bytes))       #original test input (demonstrate goal met)"
   ]
  },
  {
   "cell_type": "markdown",
   "id": "530894b3",
   "metadata": {},
   "source": [
    "### Rename binary files based on headers\n",
    "**Goal:**\n",
    "Rename the binary files that come in from the RockBlock (named with IMEI) based on the headers"
   ]
  },
  {
   "cell_type": "code",
   "execution_count": 107,
   "id": "67b2c374",
   "metadata": {},
   "outputs": [
    {
     "name": "stdout",
     "output_type": "stream",
     "text": [
      "b'\\x04\\x1e%\\x80\\x0f\\x01@\\x18\\x04\\x15\\x06L\\x00\\x00\\x00\\x01\\x02\\x03\\x04\\x05\\x06'\n"
     ]
    }
   ],
   "source": [
    "#contents for new binary file\n",
    "header = b'\\x04\\x1e\\x25\\x80\\x0f\\x01\\x40\\x18\\x04\\x15\\x06\\x4c\\x00\\x00'\n",
    "data = b'\\x00\\x01\\x02\\x03\\x04\\x05\\x06'\n",
    "to_write = header + data\n",
    "print(to_write)"
   ]
  },
  {
   "cell_type": "code",
   "execution_count": 108,
   "id": "c4ddf98e",
   "metadata": {},
   "outputs": [],
   "source": [
    "#open a new binary file to write\n",
    "f = open('test_bin.bin', 'wb')\n",
    "try:\n",
    "    f.write(to_write)\n",
    "finally:\n",
    "    f.close()"
   ]
  },
  {
   "cell_type": "code",
   "execution_count": 109,
   "id": "97709541",
   "metadata": {},
   "outputs": [],
   "source": [
    "f = open('test_bin.bin', 'rb')\n",
    "contents = f.read()\n",
    "f.close()"
   ]
  },
  {
   "cell_type": "code",
   "execution_count": 110,
   "id": "07264342",
   "metadata": {},
   "outputs": [
    {
     "name": "stdout",
     "output_type": "stream",
     "text": [
      "076_004_030_image.bin\n"
     ]
    }
   ],
   "source": [
    "# make new file name with file identifier\n",
    "# shouldn't do this -- identifiers are arbitrary and will repeat (since only 1 byte --> repeat after 256 images)\n",
    "identifier = contents[11]       #image identifier\n",
    "seq = contents[0]               \n",
    "total_seq = contents[1]\n",
    "\n",
    "name = '{iden:0>3}_{seq:0>3}_{tot:0>3}_image.bin'.format(iden=identifier, seq=seq, tot=total_seq)\n",
    "print(name)"
   ]
  },
  {
   "cell_type": "code",
   "execution_count": 112,
   "id": "ec7a9a7f",
   "metadata": {},
   "outputs": [
    {
     "name": "stdout",
     "output_type": "stream",
     "text": [
      "24042106_004_030_image.bin\n"
     ]
    }
   ],
   "source": [
    "# make file name with timestamp\n",
    "year = contents[7]\n",
    "month = contents[8]\n",
    "day = contents[9]\n",
    "hour = contents[10]\n",
    "\n",
    "name = '{y:0>2}{m:0>2}{d:0>2}{h:0>2}_{seq:0>3}_{tot:0>3}_image.bin'.format(y=year, m=month, d=day, h=hour, seq=seq, tot=total_seq)\n",
    "print(name)"
   ]
  },
  {
   "cell_type": "code",
   "execution_count": 113,
   "id": "31f0223a",
   "metadata": {},
   "outputs": [],
   "source": [
    "#make new file and write contents\n",
    "f = open(name, 'wb')\n",
    "try:\n",
    "    f.write(contents)\n",
    "finally:\n",
    "    f.close()"
   ]
  },
  {
   "cell_type": "code",
   "execution_count": 114,
   "id": "1dabbf26",
   "metadata": {},
   "outputs": [
    {
     "name": "stdout",
     "output_type": "stream",
     "text": [
      "b'\\x04\\x1e%\\x80\\x0f\\x01@\\x18\\x04\\x15\\x06L\\x00\\x00\\x00\\x01\\x02\\x03\\x04\\x05\\x06'\n"
     ]
    }
   ],
   "source": [
    "f = open(name, 'rb')\n",
    "print(f.read())\n",
    "f.close()"
   ]
  },
  {
   "cell_type": "code",
   "execution_count": null,
   "id": "8a0a05ba",
   "metadata": {},
   "outputs": [],
   "source": []
  }
 ],
 "metadata": {
  "kernelspec": {
   "display_name": "Python 3 (ipykernel)",
   "language": "python",
   "name": "python3"
  },
  "language_info": {
   "codemirror_mode": {
    "name": "ipython",
    "version": 3
   },
   "file_extension": ".py",
   "mimetype": "text/x-python",
   "name": "python",
   "nbconvert_exporter": "python",
   "pygments_lexer": "ipython3",
   "version": "3.9.12"
  }
 },
 "nbformat": 4,
 "nbformat_minor": 5
}
