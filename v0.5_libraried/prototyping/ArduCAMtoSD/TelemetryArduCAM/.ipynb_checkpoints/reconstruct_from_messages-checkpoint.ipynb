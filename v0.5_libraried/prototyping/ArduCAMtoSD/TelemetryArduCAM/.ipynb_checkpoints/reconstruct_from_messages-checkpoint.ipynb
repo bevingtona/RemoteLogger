{
 "cells": [
  {
   "cell_type": "markdown",
   "id": "d1bf8f0e",
   "metadata": {},
   "source": [
    "### Reconstructing image from compressed pixels in messages"
   ]
  },
  {
   "cell_type": "code",
   "execution_count": null,
   "id": "8ea9730d",
   "metadata": {},
   "outputs": [],
   "source": [
    "import numpy as np\n",
    "from PIL import Image"
   ]
  },
  {
   "cell_type": "markdown",
   "id": "83c6adba",
   "metadata": {},
   "source": [
    "#### Read in first binary file and extract header information"
   ]
  },
  {
   "cell_type": "code",
   "execution_count": 3,
   "id": "4900c335",
   "metadata": {},
   "outputs": [
    {
     "name": "stdout",
     "output_type": "stream",
     "text": [
      "size: 0 -- height: 480 -- width: 640\n",
      "timestamp: 24 7 2 17\n"
     ]
    }
   ],
   "source": [
    "img_id = 1\n",
    "total_seq = 120\n",
    "\n",
    "name = \"image_binary/{:02d}{:03d}{:03d}.bin\".format(img_id, 1, total_seq)\n",
    "\n",
    "f = open(name, 'rb')\n",
    "contents = [b for b in f.read()]\n",
    "f.close()\n",
    "\n",
    "size = (contents[2] << 8) | contents[3]         #something going wrong here (thinks size is zero)\n",
    "height = (contents[4] << 4) | ((contents[5] & 0xf0) >> 4)\n",
    "width = ((contents[5] & 0x0f) << 8) | contents[6]\n",
    "\n",
    "year = contents[7]\n",
    "month = contents[8]\n",
    "day = contents[9]\n",
    "hour = contents[10]\n",
    "\n",
    "print('size: {} -- height: {} -- width: {}'.format(size, height, width))\n",
    "print('timestamp: {} {} {} {}'.format(year, month, day, hour))"
   ]
  },
  {
   "cell_type": "markdown",
   "id": "47ee9fdf",
   "metadata": {},
   "source": [
    "#### Read binary files into one array"
   ]
  },
  {
   "cell_type": "code",
   "execution_count": 5,
   "id": "2afb8097",
   "metadata": {},
   "outputs": [],
   "source": [
    "image_data = []     # store data in nibbles\n",
    "\n",
    "for n in range(1,total_seq+1):\n",
    "    name = \"image_binary/{:02d}{:03d}{:03d}.bin\".format(img_id, n, total_seq)\n",
    "    f = open(name, 'rb')\n",
    "    contents = [b for b in f.read()]\n",
    "    f.close()\n",
    "    \n",
    "    image_data.extend(contents[14::])      # cut off the header and add the payload to the list of image data"
   ]
  },
  {
   "cell_type": "markdown",
   "id": "c31c5d60",
   "metadata": {},
   "source": [
    "#### Expand data from nibbles to bytes"
   ]
  },
  {
   "cell_type": "code",
   "execution_count": 7,
   "id": "45cb265c",
   "metadata": {},
   "outputs": [],
   "source": [
    "image_bytes = []\n",
    "\n",
    "for i in range(len(image_data)):\n",
    "    high_nib = image_data[i] & 0xf0\n",
    "    low_nib = (image_data[i] & 0x0f) << 4\n",
    "    \n",
    "    image_bytes.append(high_nib)\n",
    "    image_bytes.append(low_nib)"
   ]
  },
  {
   "cell_type": "markdown",
   "id": "9ab7a5f0",
   "metadata": {},
   "source": [
    "#### Reshape array to matrix and produce image"
   ]
  },
  {
   "cell_type": "code",
   "execution_count": null,
   "id": "6bd7770f",
   "metadata": {},
   "outputs": [],
   "source": [
    "h, w = (int) height/2, (int) width/2      #change this when the transmitted h/w are compressed values not OG values\n",
    "\n",
    "image = np.array(image_bytes)\n",
    "matrix = image.reshape((h,w))\n"
   ]
  }
 ],
 "metadata": {
  "kernelspec": {
   "display_name": "Python 3 (ipykernel)",
   "language": "python",
   "name": "python3"
  },
  "language_info": {
   "codemirror_mode": {
    "name": "ipython",
    "version": 3
   },
   "file_extension": ".py",
   "mimetype": "text/x-python",
   "name": "python",
   "nbconvert_exporter": "python",
   "pygments_lexer": "ipython3",
   "version": "3.9.12"
  }
 },
 "nbformat": 4,
 "nbformat_minor": 5
}
