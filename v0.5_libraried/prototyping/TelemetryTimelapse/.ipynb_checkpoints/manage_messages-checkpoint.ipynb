{
 "cells": [
  {
   "cell_type": "markdown",
   "id": "e57c1227",
   "metadata": {},
   "source": [
    "## Manage messages from RockBlock containing image information\n",
    "Author: Rachel Pagdin<br>\n",
    "July 4, 2024\n",
    "\n",
    "1. Open all files as they come in and rename based on header information\n",
    "2. Open all files belonging to the same image and put into a single image"
   ]
  },
  {
   "cell_type": "markdown",
   "id": "9684f75e",
   "metadata": {},
   "source": [
    "### Part 1: Entryway to database (execute on receiving)\n",
    "\n",
    "**Header structure:**<br>\n",
    "[0]: sequence number<br>\n",
    "[1]: total messages in sequence<br>\n",
    "[2-3]: transmitted image size in bytes<br>\n",
    "[4-6]: image height and width (12 bits each)<br>\n",
    "[7]: image capture year<br>\n",
    "[8]: image capture month<br>\n",
    "[9]: image capture day<br>\n",
    "[10]: image capture hour<br>\n",
    "[11]: identifier for image (0-255)<br>"
   ]
  },
  {
   "cell_type": "code",
   "execution_count": 2,
   "id": "1aeec47c",
   "metadata": {},
   "outputs": [],
   "source": [
    "#import necessary modules\n",
    "import os"
   ]
  },
  {
   "cell_type": "code",
   "execution_count": 9,
   "id": "b27b9cc0",
   "metadata": {},
   "outputs": [],
   "source": [
    "def rename_file(name):\n",
    "    try:\n",
    "        f = open(name, 'rb')\n",
    "        contents = [b for b in f.read()]      #read contents of file into list\n",
    "        f.close()\n",
    "    \n",
    "        seq, total_seq = contents[0], contents[1]\n",
    "        year, month, day, hour = contents[7], contents[8], contents[9], contents[10]\n",
    "    \n",
    "        new_name = '{y:0>2}{m:0>2}{d:0>2}{h:0>2}_{seq:0>3}_{tot:0>3}_image.bin'.format(y=year, m=month, d=day, h=hour, seq=seq, tot=total_seq)\n",
    "    \n",
    "        os.rename(name, new_name)\n",
    "    except:\n",
    "        print('no file of that name')"
   ]
  },
  {
   "cell_type": "code",
   "execution_count": 10,
   "id": "80f7797b",
   "metadata": {},
   "outputs": [
    {
     "name": "stdout",
     "output_type": "stream",
     "text": [
      "no file of that name\n"
     ]
    }
   ],
   "source": [
    "imei = 300434068547220\n",
    "message_id = 2\n",
    "name = \"{}-{}.bin\".format(imei, message_id)      #auto-generated name of message file transmitted over Iridium (make this whatever it decides - maybe get from OS?)\n",
    "rename_file(name)"
   ]
  },
  {
   "cell_type": "markdown",
   "id": "e31f707e",
   "metadata": {},
   "source": [
    "### Part 2: Assembling an image"
   ]
  },
  {
   "cell_type": "code",
   "execution_count": 6,
   "id": "5044e49b",
   "metadata": {},
   "outputs": [],
   "source": [
    "#import necessary modules\n",
    "import numpy as np\n",
    "from PIL import Image"
   ]
  },
  {
   "cell_type": "code",
   "execution_count": 7,
   "id": "112d7d9b",
   "metadata": {},
   "outputs": [],
   "source": [
    "\"\"\" \n",
    "This method takes the total number of messages in the sequence plus the timestamp when the image was captured\n",
    "Should have a table in the database containing this information (for each image):\n",
    "    - IMEI of the modem from which the image messages were received\n",
    "    - image timestamp (in one column or more)\n",
    "    - total images in sequence\n",
    "    - how many messages of the sequence have been received\n",
    "    - whether or not the image has been reconstructed\n",
    "This table will be updated when each incoming message is processed. \n",
    "Unique identifier is the timestamp and IMEI -- can transmit at most one image per hour to keep ID's unique.\n",
    "\"\"\"\n",
    "def assemble_image(total_seq, year, month, day, hour):\n",
    "    image_4bit = []\n",
    "    have_header = False\n",
    "    zeroes = [0 for i in range(320)]      #placeholder for if there's no image data (missing message)\n",
    "    \n",
    "    \n",
    "    # read all the messages into a single array of values\n",
    "    for seq in range(1, total_seq+1):\n",
    "        try:\n",
    "            name = '{y:0>2}{m:0>2}{d:0>2}{h:0>2}_{seq:0>3}_{tot:0>3}_image.bin'.format(y=year, m=month, d=day, h=hour, seq=seq, tot=total_seq)\n",
    "        \n",
    "            f = open(name, 'rb')\n",
    "            contents = [b for b in f.read()]\n",
    "            f.close()\n",
    "        \n",
    "            if(not have_header):      # haven't gotten the header info for this image yet - read from the first message\n",
    "                og_height = (contents[4] << 4) | ((contents[5] & 0xf0) >> 4)       #this is the original height and width right now (need to change what comes through in the messages)\n",
    "                og_width = ((contents[5] & 0x0f) << 8) | contents[6]\n",
    "            \n",
    "                have_header = True\n",
    "        \n",
    "            image_4bit.extend(contents[14::])      #add payload to the image data (cut off first 14 bytes - header)\n",
    "            \n",
    "        except:       #no file\n",
    "            image_4bit.extend(zeroes)         #if that sequence is missing, replace it with placeholder values (blank in image)\n",
    "     \n",
    "    \n",
    "    # convert from 4-bit back to 8-bit\n",
    "    image_8bit = []\n",
    "    for i in range(len(image_4bit)):\n",
    "        high_nib = image_4bit[i] & 0xf0\n",
    "        low_nib = (image_4bit[i] & 0x0f) << 4\n",
    "    \n",
    "        image_8bit.append(high_nib)\n",
    "        image_8bit.append(low_nib)\n",
    "        \n",
    "    \n",
    "    # construct the image\n",
    "    height = int(og_height/2)      #can remove this once we have actual image height and width in header\n",
    "    width = int(og_width/2)\n",
    "        \n",
    "    image = np.array(image_8bit)\n",
    "    matrix = image.reshape((height, width))\n",
    "    \n",
    "    img = Image.fromarray(np.uint8(matrix), 'L')\n",
    "    img.show()      #display the image in photo displayer\n",
    "    \n",
    "    filename = '{:02d}{:02d}{:02d}{:02d}.png'.format(year, month, day, hour)\n",
    "    img.save(filename)"
   ]
  },
  {
   "cell_type": "code",
   "execution_count": 8,
   "id": "22c8c44f",
   "metadata": {},
   "outputs": [],
   "source": [
    "year, month, day, hour = 24, 7, 2, 17      #this is the test timestamp in the test binary files (17:00 Jul 2, 2024)\n",
    "assemble_image(120, year, month, day, hour)"
   ]
  },
  {
   "cell_type": "code",
   "execution_count": null,
   "id": "d85e3f2b",
   "metadata": {},
   "outputs": [],
   "source": []
  }
 ],
 "metadata": {
  "kernelspec": {
   "display_name": "Python 3 (ipykernel)",
   "language": "python",
   "name": "python3"
  },
  "language_info": {
   "codemirror_mode": {
    "name": "ipython",
    "version": 3
   },
   "file_extension": ".py",
   "mimetype": "text/x-python",
   "name": "python",
   "nbconvert_exporter": "python",
   "pygments_lexer": "ipython3",
   "version": "3.9.12"
  }
 },
 "nbformat": 4,
 "nbformat_minor": 5
}
